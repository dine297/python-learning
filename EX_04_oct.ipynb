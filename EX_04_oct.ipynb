{
  "nbformat": 4,
  "nbformat_minor": 0,
  "metadata": {
    "colab": {
      "name": "EX:04-oct",
      "provenance": [],
      "authorship_tag": "ABX9TyM9tatuDXPGFor9mjue7Dv1",
      "include_colab_link": true
    },
    "kernelspec": {
      "name": "python3",
      "display_name": "Python 3"
    },
    "language_info": {
      "name": "python"
    }
  },
  "cells": [
    {
      "cell_type": "markdown",
      "metadata": {
        "id": "view-in-github",
        "colab_type": "text"
      },
      "source": [
        "<a href=\"https://colab.research.google.com/github/dine297/python-learning/blob/main/EX_04_oct.ipynb\" target=\"_parent\"><img src=\"https://colab.research.google.com/assets/colab-badge.svg\" alt=\"Open In Colab\"/></a>"
      ]
    },
    {
      "cell_type": "markdown",
      "metadata": {
        "id": "7q43Z6_vDtCH"
      },
      "source": [
        "String Formatting"
      ]
    },
    {
      "cell_type": "code",
      "metadata": {
        "colab": {
          "base_uri": "https://localhost:8080/"
        },
        "id": "WxgeWGajCadR",
        "outputId": "87c1dda2-5233-4b4c-a669-b5958b980e7c"
      },
      "source": [
        "star=\"Twinkle, twinkle, little star, \\n \\t How I wonder what you are! \\n \\t \\t Up above the world so high, \\n \\t \\t Like a diamond in the sky. \\nTwinkle, twinkle, little star, \\n \\t How I wonder what you are\"\n",
        "print(star)"
      ],
      "execution_count": null,
      "outputs": [
        {
          "output_type": "stream",
          "name": "stdout",
          "text": [
            "Twinkle, twinkle, little star, \n",
            " \t How I wonder what you are! \n",
            " \t \t Up above the world so high, \n",
            " \t \t Like a diamond in the sky. \n",
            "Twinkle, twinkle, little star, \n",
            " \t How I wonder what you are\n"
          ]
        }
      ]
    },
    {
      "cell_type": "markdown",
      "metadata": {
        "id": "88yfvRRlGAJ5"
      },
      "source": [
        "Get The Python Version"
      ]
    },
    {
      "cell_type": "code",
      "metadata": {
        "colab": {
          "base_uri": "https://localhost:8080/"
        },
        "id": "BCdfGhkgD_Ef",
        "outputId": "87a62841-8955-452f-8454-e62fc6049227"
      },
      "source": [
        "import sys\n",
        "import platform\n",
        "print(\"Pyhthon Version:\" + platform.python_version())\n",
        "#print(platform.python_version())\n",
        "print(sys.version_info)"
      ],
      "execution_count": null,
      "outputs": [
        {
          "output_type": "stream",
          "name": "stdout",
          "text": [
            "Pyhthon Version:3.7.12\n",
            "sys.version_info(major=3, minor=7, micro=12, releaselevel='final', serial=0)\n"
          ]
        }
      ]
    },
    {
      "cell_type": "markdown",
      "metadata": {
        "id": "V2uSyiQ6Gv4G"
      },
      "source": [
        "Date and Time"
      ]
    },
    {
      "cell_type": "code",
      "metadata": {
        "colab": {
          "base_uri": "https://localhost:8080/"
        },
        "id": "2sZ7JcsSGEQj",
        "outputId": "af80df8a-685d-4e15-a359-adeb27f577ca"
      },
      "source": [
        "from datetime import date\n",
        "from datetime import datetime\n",
        "\n",
        "now = datetime.now()\n",
        "\n",
        "today = date.today()\n",
        "print(\"Today's date:\", today)\n",
        "\n",
        "# dd/mm/YY\n",
        "d1 = today.strftime(\"%d/%m/%Y\")\n",
        "print(\"d1 =\", d1)\n",
        "\n",
        "# Textual month, day and year\t\n",
        "d2 = today.strftime(\"%B %d, %Y\")\n",
        "print(\"d2 =\", d2)\n",
        "\n",
        "# mm/dd/y\n",
        "d3 = today.strftime(\"%m/%d/%y\")\n",
        "print(\"d3 =\", d3)\n",
        "\n",
        "# Month abbreviation, day and year\t\n",
        "d4 = today.strftime(\"%b-%d-%Y\")\n",
        "print(\"d4 =\", d4)\n",
        "\n",
        "# dd/mm/YY H:M:S\n",
        "dt_string = now.strftime(\"%d/%m/%Y %H:%M:%S\")\n",
        "print(\"date and time =\", dt_string)\t"
      ],
      "execution_count": null,
      "outputs": [
        {
          "output_type": "stream",
          "name": "stdout",
          "text": [
            "Today's date: 2021-10-04\n",
            "d1 = 04/10/2021\n",
            "d2 = October 04, 2021\n",
            "d3 = 10/04/21\n",
            "d4 = Oct-04-2021\n",
            "date and time = 04/10/2021 07:04:39\n"
          ]
        }
      ]
    },
    {
      "cell_type": "code",
      "metadata": {
        "colab": {
          "base_uri": "https://localhost:8080/"
        },
        "id": "BN7ixJPCI-MU",
        "outputId": "828a4377-1f19-4693-cedd-03d9a90e008a"
      },
      "source": [
        "# Area = pi r square\n",
        "r=2\n",
        "area=((22/7) * (r*r))\n",
        "print(area)"
      ],
      "execution_count": null,
      "outputs": [
        {
          "output_type": "stream",
          "name": "stdout",
          "text": [
            "12.571428571428571\n"
          ]
        }
      ]
    },
    {
      "cell_type": "markdown",
      "metadata": {
        "id": "3je1H_6WLR86"
      },
      "source": [
        "Print the name in reverse"
      ]
    },
    {
      "cell_type": "code",
      "metadata": {
        "colab": {
          "base_uri": "https://localhost:8080/"
        },
        "id": "psykD5VBKdHH",
        "outputId": "157a1534-ee79-40d7-b5d2-599a73456c75"
      },
      "source": [
        "fn = input('Enter your First Name:')\n",
        "ln = input('Enter your Last Name:')\n",
        "print(ln,fn)"
      ],
      "execution_count": null,
      "outputs": [
        {
          "output_type": "stream",
          "name": "stdout",
          "text": [
            "Enter your First Name:Dinesh\n",
            "Enter your Last Name:Murthy\n",
            "Murthy Dinesh\n"
          ]
        }
      ]
    },
    {
      "cell_type": "markdown",
      "metadata": {
        "id": "oNETjYBgOBQS"
      },
      "source": [
        "Numbers to list and tuple"
      ]
    },
    {
      "cell_type": "code",
      "metadata": {
        "colab": {
          "base_uri": "https://localhost:8080/"
        },
        "id": "Q-wk1ynsL2di",
        "outputId": "c5c1593c-6c95-4ec1-abbe-1077b1112a47"
      },
      "source": [
        "#numbers = input(\"Enter the number's in a comma separator:\")\n",
        "#numbers=list(numbers)\n",
        "#numberslist=numbers.split(',')\n",
        "#print(numberslist)\n",
        "#numbers1=tuple(numberslist)\n",
        "############################\n",
        "lst=[]\n",
        "n = int(input(\"Enter the number of elements:\"))\n",
        "#print(n)\n",
        "for i in range(0,n):\n",
        "  numbers = input(\"Enter the number \" + str(i+1) + \" :\")\n",
        "  lst.append(numbers)\n",
        "print(lst)\n",
        "print(tuple(lst))"
      ],
      "execution_count": null,
      "outputs": [
        {
          "output_type": "stream",
          "name": "stdout",
          "text": [
            "Enter the number of elements:2\n",
            "Enter the number 1 :2\n",
            "Enter the number 2 :55\n",
            "['2', '55']\n",
            "('2', '55')\n"
          ]
        }
      ]
    },
    {
      "cell_type": "markdown",
      "metadata": {
        "id": "0Crb7p0olxQg"
      },
      "source": [
        "Add extension in the given file name"
      ]
    },
    {
      "cell_type": "code",
      "metadata": {
        "colab": {
          "base_uri": "https://localhost:8080/"
        },
        "id": "6EOCB0vKlGqt",
        "outputId": "67437ad7-2846-492a-c69d-ccdba19d9f61"
      },
      "source": [
        "name=input(\"Enter Your File Name with extension:\")\n",
        "print(name.split('.')[1])"
      ],
      "execution_count": null,
      "outputs": [
        {
          "output_type": "stream",
          "name": "stdout",
          "text": [
            "Enter Your File Name with extension:dineh.java\n",
            "java\n"
          ]
        }
      ]
    },
    {
      "cell_type": "markdown",
      "metadata": {
        "id": "RHpKyukJmunN"
      },
      "source": [
        " To display the first and last colors from the following list."
      ]
    },
    {
      "cell_type": "code",
      "metadata": {
        "colab": {
          "base_uri": "https://localhost:8080/"
        },
        "id": "nm68fUrOmJu8",
        "outputId": "44a2bf21-91a2-4f1d-c45a-de241f38c486"
      },
      "source": [
        "color_list = [\"Red\",\"Green\",\"White\" ,\"Black\"]\n",
        "print(color_list[0], color_list[-1])"
      ],
      "execution_count": null,
      "outputs": [
        {
          "output_type": "stream",
          "name": "stdout",
          "text": [
            "Red Black\n"
          ]
        }
      ]
    },
    {
      "cell_type": "code",
      "metadata": {
        "colab": {
          "base_uri": "https://localhost:8080/"
        },
        "id": "FU4GO2hanyLa",
        "outputId": "0eaf185e-7f21-4a87-ad91-78414fbd6596"
      },
      "source": [
        "exam_st_date = 11, 12, 2014\n",
        "print(str(exam_st_date[0]) + \"/\" + str(exam_st_date[1]) + \"/\" + str(exam_st_date[2]))"
      ],
      "execution_count": null,
      "outputs": [
        {
          "output_type": "stream",
          "name": "stdout",
          "text": [
            "11/12/2014\n"
          ]
        }
      ]
    },
    {
      "cell_type": "markdown",
      "metadata": {
        "id": "W5srmKkNryNH"
      },
      "source": [
        "n+nn+nnn. i.e 5+55+555\n",
        "Sample value of n is 5\n",
        "Expected Result : 615"
      ]
    },
    {
      "cell_type": "code",
      "metadata": {
        "colab": {
          "base_uri": "https://localhost:8080/"
        },
        "id": "zhopEdaYrsaU",
        "outputId": "6a9ba6ec-f6ec-4222-ec85-2fc51907a1d7"
      },
      "source": [
        "n=5\n",
        "steps=5\n",
        "res=0\n",
        "for i in range(1,steps+1):\n",
        "  nvalue=i*str(n)\n",
        "  #print(int(nvalue))\n",
        "  res=res+int(nvalue)\n",
        "  #print(res)\n",
        "    \n",
        "print(res)"
      ],
      "execution_count": 12,
      "outputs": [
        {
          "output_type": "stream",
          "name": "stdout",
          "text": [
            "61725\n"
          ]
        }
      ]
    }
  ]
}