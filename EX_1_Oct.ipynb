{
  "nbformat": 4,
  "nbformat_minor": 0,
  "metadata": {
    "colab": {
      "name": "EX:1_Oct",
      "provenance": [],
      "toc_visible": true,
      "authorship_tag": "ABX9TyNSrzWRHF2ZoG+jxDzAn5ng",
      "include_colab_link": true
    },
    "kernelspec": {
      "name": "python3",
      "display_name": "Python 3"
    },
    "language_info": {
      "name": "python"
    }
  },
  "cells": [
    {
      "cell_type": "markdown",
      "metadata": {
        "id": "view-in-github",
        "colab_type": "text"
      },
      "source": [
        "<a href=\"https://colab.research.google.com/github/dine297/python-learning/blob/main/EX_1_Oct.ipynb\" target=\"_parent\"><img src=\"https://colab.research.google.com/assets/colab-badge.svg\" alt=\"Open In Colab\"/></a>"
      ]
    },
    {
      "cell_type": "code",
      "metadata": {
        "id": "Urfpol4yeBY3",
        "colab": {
          "base_uri": "https://localhost:8080/"
        },
        "outputId": "953f3897-dfb4-45de-a544-789dfaf28d3c"
      },
      "source": [
        "\n",
        "\n",
        "str_x = \"Emma is good developer. Emma is a writer\"\n",
        "x=str_x.split()\n",
        "print(x)\n",
        "a=\"Emma\"\n",
        "count=0\n",
        "\n",
        "for i in x:\n",
        "  if(a == i):\n",
        "    count=count+1\n",
        "print(count)"
      ],
      "execution_count": 4,
      "outputs": [
        {
          "output_type": "stream",
          "name": "stdout",
          "text": [
            "['Emma', 'is', 'good', 'developer.', 'Emma', 'is', 'a', 'writer']\n",
            "2\n"
          ]
        }
      ]
    },
    {
      "cell_type": "code",
      "metadata": {
        "colab": {
          "base_uri": "https://localhost:8080/"
        },
        "id": "rB-eVbnzhhpW",
        "outputId": "94fd2d06-91f9-4739-b916-f5226c46f7bf"
      },
      "source": [
        "x=231\n",
        "\n",
        "x=str(x)\n",
        "if (x.isnumeric()):\n",
        "  y=x[::-1]\n",
        "  if(x == y):\n",
        "    print(\"Its a Palindrome\")\n",
        "  else:\n",
        "    print(\"Not a Palindrome\")  \n",
        "else:\n",
        "  print(\"Given ia not Numeric\")"
      ],
      "execution_count": 16,
      "outputs": [
        {
          "output_type": "stream",
          "name": "stdout",
          "text": [
            "Not a Palindrome\n"
          ]
        }
      ]
    }
  ]
}