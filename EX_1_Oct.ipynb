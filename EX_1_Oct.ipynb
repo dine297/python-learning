{
  "nbformat": 4,
  "nbformat_minor": 0,
  "metadata": {
    "colab": {
      "name": "EX:1_Oct",
      "provenance": [],
      "authorship_tag": "ABX9TyNOrRfC8WlL++Jr2/9f+zhU",
      "include_colab_link": true
    },
    "kernelspec": {
      "name": "python3",
      "display_name": "Python 3"
    },
    "language_info": {
      "name": "python"
    }
  },
  "cells": [
    {
      "cell_type": "markdown",
      "metadata": {
        "id": "view-in-github",
        "colab_type": "text"
      },
      "source": [
        "<a href=\"https://colab.research.google.com/github/dine297/python-learning/blob/main/EX_1_Oct.ipynb\" target=\"_parent\"><img src=\"https://colab.research.google.com/assets/colab-badge.svg\" alt=\"Open In Colab\"/></a>"
      ]
    },
    {
      "cell_type": "markdown",
      "metadata": {
        "id": "1Gv_ujLMlc10"
      },
      "source": [
        "Count repeated words in a given string"
      ]
    },
    {
      "cell_type": "code",
      "metadata": {
        "id": "Urfpol4yeBY3",
        "colab": {
          "base_uri": "https://localhost:8080/"
        },
        "outputId": "98c8e012-7a50-4b85-9bf8-27611fef7cdc"
      },
      "source": [
        "\n",
        "\n",
        "str_x = \"Emma is good developer. Emma is a writer\"\n",
        "x=str_x.split()\n",
        "print(x)\n",
        "word_list=[]\n",
        "for word in x:\n",
        "  if word not in word_list:\n",
        "    word_list.append(word)\n",
        "\n",
        "    cnt=x.count(word)\n",
        "\n",
        "    print(word + \" is \" + str(cnt) + \" times\")\n",
        "\n",
        "\n",
        "#########################################################\n",
        "a=\"Emma\"\n",
        "count=0\n",
        "\n",
        "for i in x:\n",
        "  if(a == i):\n",
        "    count=count+1\n",
        "print(count)"
      ],
      "execution_count": 22,
      "outputs": [
        {
          "output_type": "stream",
          "name": "stdout",
          "text": [
            "['Emma', 'is', 'good', 'developer.', 'Emma', 'is', 'a', 'writer']\n",
            "Emma is 2 times\n",
            "is is 2 times\n",
            "good is 1 times\n",
            "developer. is 1 times\n",
            "a is 1 times\n",
            "writer is 1 times\n",
            "2\n"
          ]
        }
      ]
    },
    {
      "cell_type": "markdown",
      "metadata": {
        "id": "WwMEDEtMluHE"
      },
      "source": [
        "Check given number is palindrome"
      ]
    },
    {
      "cell_type": "code",
      "metadata": {
        "colab": {
          "base_uri": "https://localhost:8080/"
        },
        "id": "rB-eVbnzhhpW",
        "outputId": "94fd2d06-91f9-4739-b916-f5226c46f7bf"
      },
      "source": [
        "x=231\n",
        "\n",
        "x=str(x)\n",
        "if (x.isnumeric()):\n",
        "  y=x[::-1]\n",
        "  if(x == y):\n",
        "    print(\"Its a Palindrome\")\n",
        "  else:\n",
        "    print(\"Not a Palindrome\")  \n",
        "else:\n",
        "  print(\"Given ia not Numeric\")"
      ],
      "execution_count": null,
      "outputs": [
        {
          "output_type": "stream",
          "name": "stdout",
          "text": [
            "Not a Palindrome\n"
          ]
        }
      ]
    }
  ]
}