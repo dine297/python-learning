{
  "nbformat": 4,
  "nbformat_minor": 0,
  "metadata": {
    "colab": {
      "name": "EX-29_sep",
      "provenance": [],
      "authorship_tag": "ABX9TyMA/093tkmF+GfdVgbDxK3B",
      "include_colab_link": true
    },
    "kernelspec": {
      "name": "python3",
      "display_name": "Python 3"
    },
    "language_info": {
      "name": "python"
    }
  },
  "cells": [
    {
      "cell_type": "markdown",
      "metadata": {
        "id": "view-in-github",
        "colab_type": "text"
      },
      "source": [
        "<a href=\"https://colab.research.google.com/github/dine297/python-learning/blob/main/EX_29_sep.ipynb\" target=\"_parent\"><img src=\"https://colab.research.google.com/assets/colab-badge.svg\" alt=\"Open In Colab\"/></a>"
      ]
    },
    {
      "cell_type": "code",
      "metadata": {
        "colab": {
          "base_uri": "https://localhost:8080/"
        },
        "id": "LjxknXWo3uqz",
        "outputId": "19844ce1-b0af-4450-effc-0f63f2c82d9e"
      },
      "source": [
        "a=10\n",
        "b=20\n",
        "c=a+b\n",
        "print(c)\n",
        "previous=c-1\n",
        "print(previous)\n",
        "\n"
      ],
      "execution_count": 27,
      "outputs": [
        {
          "output_type": "stream",
          "name": "stdout",
          "text": [
            "30\n",
            "29\n"
          ]
        }
      ]
    },
    {
      "cell_type": "code",
      "metadata": {
        "colab": {
          "base_uri": "https://localhost:8080/"
        },
        "id": "qvCQf3MHzEba",
        "outputId": "c6158a14-3670-4ac1-eab0-9659d655954f"
      },
      "source": [
        "x=4\n",
        "for i in range(x):\n",
        "  a=i\n",
        "  b=i+1\n",
        "  c=a+b\n",
        "  print(a, \"+\", b, \"=\", c,)"
      ],
      "execution_count": 25,
      "outputs": [
        {
          "output_type": "stream",
          "name": "stdout",
          "text": [
            "0 + 1 = 1\n",
            "1 + 2 = 3\n",
            "2 + 3 = 5\n",
            "3 + 4 = 7\n"
          ]
        }
      ]
    },
    {
      "cell_type": "code",
      "metadata": {
        "id": "UTo2ltgY3V02"
      },
      "source": [
        ""
      ],
      "execution_count": null,
      "outputs": []
    },
    {
      "cell_type": "code",
      "metadata": {
        "colab": {
          "base_uri": "https://localhost:8080/"
        },
        "id": "CIeIaKJF3Wc-",
        "outputId": "08fc8953-7d66-492e-a70a-7c3bd440e387"
      },
      "source": [
        "st=\"this is a message\"\n",
        "print(st)\n",
        "x=st.strip()\n",
        "x=len(x)\n",
        "\n",
        "for i in range(0,x,2):\n",
        "  print(st[i], end=\" \")\n"
      ],
      "execution_count": 26,
      "outputs": [
        {
          "output_type": "stream",
          "name": "stdout",
          "text": [
            "this is a message\n",
            "t i   s a m s a e "
          ]
        }
      ]
    }
  ]
}