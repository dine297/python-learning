{
  "nbformat": 4,
  "nbformat_minor": 0,
  "metadata": {
    "colab": {
      "name": "EX:30_sep",
      "provenance": [],
      "authorship_tag": "ABX9TyMy3JM8Ofdu/b1/MJAEPFSd",
      "include_colab_link": true
    },
    "kernelspec": {
      "name": "python3",
      "display_name": "Python 3"
    },
    "language_info": {
      "name": "python"
    }
  },
  "cells": [
    {
      "cell_type": "markdown",
      "metadata": {
        "id": "view-in-github",
        "colab_type": "text"
      },
      "source": [
        "<a href=\"https://colab.research.google.com/github/dine297/python-learning/blob/main/EX_30_sep.ipynb\" target=\"_parent\"><img src=\"https://colab.research.google.com/assets/colab-badge.svg\" alt=\"Open In Colab\"/></a>"
      ]
    },
    {
      "cell_type": "markdown",
      "metadata": {
        "id": "MJMWuN_TM95p"
      },
      "source": [
        "Check List first and last index are equal"
      ]
    },
    {
      "cell_type": "code",
      "metadata": {
        "id": "G7xfaCMfdmSJ",
        "colab": {
          "base_uri": "https://localhost:8080/"
        },
        "outputId": "47e8a0f9-75e7-430b-a24f-c1c8cdb5d4d5"
      },
      "source": [
        "\n",
        "\n",
        "numbers_x = [10, 20, 30, 40, 10]\n",
        "numbers_y = [75, 65, 35, 75, 30]\n",
        "\n",
        "len_x=len(numbers_x)\n",
        "\n",
        "if ((numbers_x[0])  == (numbers_x[-1])):\n",
        "  print(\"numbers_x list is true\")\n",
        "\n",
        "def chk(lst):\n",
        "  if(lst[0] == lst[-1]):\n",
        "    print(\"True\")\n",
        "  else:\n",
        "    print(\"False\")\n",
        "\n",
        "chk(numbers_x)\n",
        "chk(numbers_y)"
      ],
      "execution_count": null,
      "outputs": [
        {
          "output_type": "stream",
          "name": "stdout",
          "text": [
            "numbers_x list is true\n",
            "True\n",
            "False\n"
          ]
        }
      ]
    },
    {
      "cell_type": "markdown",
      "metadata": {
        "id": "bHQkR8ngNGUP"
      },
      "source": [
        "Reverse a Number"
      ]
    },
    {
      "cell_type": "code",
      "metadata": {
        "colab": {
          "base_uri": "https://localhost:8080/"
        },
        "id": "be8cEOcoxf7O",
        "outputId": "07d63753-186f-4294-f6af-fe66642e6408"
      },
      "source": [
        "x=\"7536\"\n",
        "for i in range(len(x),0,-1):\n",
        "  print(x[i-1],end=\" \")"
      ],
      "execution_count": null,
      "outputs": [
        {
          "output_type": "stream",
          "name": "stdout",
          "text": [
            "6 3 5 7 "
          ]
        }
      ]
    },
    {
      "cell_type": "markdown",
      "metadata": {
        "id": "UWS8QixpNK3P"
      },
      "source": [
        "Divided By 5"
      ]
    },
    {
      "cell_type": "code",
      "metadata": {
        "colab": {
          "base_uri": "https://localhost:8080/"
        },
        "id": "Vc2p0vK17xIp",
        "outputId": "2cf37df8-191a-45ae-a8d8-e5c27500fa85"
      },
      "source": [
        "x=[10,20,33,46,55]\n",
        "\n",
        "\n",
        "for i in x:\n",
        "  if(i%5 == 0):\n",
        "    print(i)\n"
      ],
      "execution_count": null,
      "outputs": [
        {
          "output_type": "stream",
          "name": "stdout",
          "text": [
            "10\n",
            "20\n",
            "55\n"
          ]
        }
      ]
    },
    {
      "cell_type": "markdown",
      "metadata": {
        "id": "60RqtqxzV6bz"
      },
      "source": [
        "Odd number from list1 and Even from list2 append those in list3"
      ]
    },
    {
      "cell_type": "code",
      "metadata": {
        "colab": {
          "base_uri": "https://localhost:8080/"
        },
        "id": "2w9b0MOXPxeM",
        "outputId": "8aa1d94a-1797-42d3-b560-ed98fb29156a"
      },
      "source": [
        "list1=[10,20,25,30,35]\n",
        "list2=[40,45,60,75,90]\n",
        "\n",
        "list3=[]\n",
        "for i in list1:\n",
        "  if(i%2 != 0):\n",
        "    list3.append(i)\n",
        "for i in list2:\n",
        "  if(i%2 == 0):\n",
        "    list3.append(i)\n",
        "print(list3)\n"
      ],
      "execution_count": 4,
      "outputs": [
        {
          "output_type": "stream",
          "name": "stdout",
          "text": [
            "[25, 35, 40, 60, 90]\n"
          ]
        }
      ]
    }
  ]
}